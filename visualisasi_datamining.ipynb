{
  "cells": [
    {
      "cell_type": "code",
      "source": [
        "\n",
        "import numpy as np\n",
        "import matplotlib.pyplot as plt\n",
        "import pandas as pd"
      ],
      "metadata": {
        "id": "rIw1YNLkdZxl"
      },
      "execution_count": null,
      "outputs": []
    },
    {
      "cell_type": "code",
      "source": [
        "data = pd.read_csv(\"Sportcarprice.csv\")\n",
        "data.head()"
      ],
      "metadata": {
        "id": "ojA3ZCyIdfeQ",
        "outputId": "7dff0bf4-0e00-4305-dc87-1850e1d42345",
        "colab": {
          "base_uri": "https://localhost:8080/",
          "height": 206
        }
      },
      "execution_count": null,
      "outputs": [
        {
          "output_type": "execute_result",
          "data": {
            "text/plain": [
              "      Car Make Car Model  Year Engine Size (L) Horsepower Torque (lb-ft)  \\\n",
              "0      Porsche       911  2022               3        379            331   \n",
              "1  Lamborghini   Huracan  2021             5.2        630            443   \n",
              "2      Ferrari   488 GTB  2022             3.9        661            561   \n",
              "3         Audi        R8  2022             5.2        562            406   \n",
              "4      McLaren      720S  2021               4        710            568   \n",
              "\n",
              "  0-60 MPH Time (seconds) Price (in USD)  \n",
              "0                       4        101,200  \n",
              "1                     2.8        274,390  \n",
              "2                       3        333,750  \n",
              "3                     3.2        142,700  \n",
              "4                     2.7        298,000  "
            ],
            "text/html": [
              "\n",
              "  <div id=\"df-79f5041c-a450-4352-8908-366411d84995\">\n",
              "    <div class=\"colab-df-container\">\n",
              "      <div>\n",
              "<style scoped>\n",
              "    .dataframe tbody tr th:only-of-type {\n",
              "        vertical-align: middle;\n",
              "    }\n",
              "\n",
              "    .dataframe tbody tr th {\n",
              "        vertical-align: top;\n",
              "    }\n",
              "\n",
              "    .dataframe thead th {\n",
              "        text-align: right;\n",
              "    }\n",
              "</style>\n",
              "<table border=\"1\" class=\"dataframe\">\n",
              "  <thead>\n",
              "    <tr style=\"text-align: right;\">\n",
              "      <th></th>\n",
              "      <th>Car Make</th>\n",
              "      <th>Car Model</th>\n",
              "      <th>Year</th>\n",
              "      <th>Engine Size (L)</th>\n",
              "      <th>Horsepower</th>\n",
              "      <th>Torque (lb-ft)</th>\n",
              "      <th>0-60 MPH Time (seconds)</th>\n",
              "      <th>Price (in USD)</th>\n",
              "    </tr>\n",
              "  </thead>\n",
              "  <tbody>\n",
              "    <tr>\n",
              "      <th>0</th>\n",
              "      <td>Porsche</td>\n",
              "      <td>911</td>\n",
              "      <td>2022</td>\n",
              "      <td>3</td>\n",
              "      <td>379</td>\n",
              "      <td>331</td>\n",
              "      <td>4</td>\n",
              "      <td>101,200</td>\n",
              "    </tr>\n",
              "    <tr>\n",
              "      <th>1</th>\n",
              "      <td>Lamborghini</td>\n",
              "      <td>Huracan</td>\n",
              "      <td>2021</td>\n",
              "      <td>5.2</td>\n",
              "      <td>630</td>\n",
              "      <td>443</td>\n",
              "      <td>2.8</td>\n",
              "      <td>274,390</td>\n",
              "    </tr>\n",
              "    <tr>\n",
              "      <th>2</th>\n",
              "      <td>Ferrari</td>\n",
              "      <td>488 GTB</td>\n",
              "      <td>2022</td>\n",
              "      <td>3.9</td>\n",
              "      <td>661</td>\n",
              "      <td>561</td>\n",
              "      <td>3</td>\n",
              "      <td>333,750</td>\n",
              "    </tr>\n",
              "    <tr>\n",
              "      <th>3</th>\n",
              "      <td>Audi</td>\n",
              "      <td>R8</td>\n",
              "      <td>2022</td>\n",
              "      <td>5.2</td>\n",
              "      <td>562</td>\n",
              "      <td>406</td>\n",
              "      <td>3.2</td>\n",
              "      <td>142,700</td>\n",
              "    </tr>\n",
              "    <tr>\n",
              "      <th>4</th>\n",
              "      <td>McLaren</td>\n",
              "      <td>720S</td>\n",
              "      <td>2021</td>\n",
              "      <td>4</td>\n",
              "      <td>710</td>\n",
              "      <td>568</td>\n",
              "      <td>2.7</td>\n",
              "      <td>298,000</td>\n",
              "    </tr>\n",
              "  </tbody>\n",
              "</table>\n",
              "</div>\n",
              "      <button class=\"colab-df-convert\" onclick=\"convertToInteractive('df-79f5041c-a450-4352-8908-366411d84995')\"\n",
              "              title=\"Convert this dataframe to an interactive table.\"\n",
              "              style=\"display:none;\">\n",
              "        \n",
              "  <svg xmlns=\"http://www.w3.org/2000/svg\" height=\"24px\"viewBox=\"0 0 24 24\"\n",
              "       width=\"24px\">\n",
              "    <path d=\"M0 0h24v24H0V0z\" fill=\"none\"/>\n",
              "    <path d=\"M18.56 5.44l.94 2.06.94-2.06 2.06-.94-2.06-.94-.94-2.06-.94 2.06-2.06.94zm-11 1L8.5 8.5l.94-2.06 2.06-.94-2.06-.94L8.5 2.5l-.94 2.06-2.06.94zm10 10l.94 2.06.94-2.06 2.06-.94-2.06-.94-.94-2.06-.94 2.06-2.06.94z\"/><path d=\"M17.41 7.96l-1.37-1.37c-.4-.4-.92-.59-1.43-.59-.52 0-1.04.2-1.43.59L10.3 9.45l-7.72 7.72c-.78.78-.78 2.05 0 2.83L4 21.41c.39.39.9.59 1.41.59.51 0 1.02-.2 1.41-.59l7.78-7.78 2.81-2.81c.8-.78.8-2.07 0-2.86zM5.41 20L4 18.59l7.72-7.72 1.47 1.35L5.41 20z\"/>\n",
              "  </svg>\n",
              "      </button>\n",
              "      \n",
              "  <style>\n",
              "    .colab-df-container {\n",
              "      display:flex;\n",
              "      flex-wrap:wrap;\n",
              "      gap: 12px;\n",
              "    }\n",
              "\n",
              "    .colab-df-convert {\n",
              "      background-color: #E8F0FE;\n",
              "      border: none;\n",
              "      border-radius: 50%;\n",
              "      cursor: pointer;\n",
              "      display: none;\n",
              "      fill: #1967D2;\n",
              "      height: 32px;\n",
              "      padding: 0 0 0 0;\n",
              "      width: 32px;\n",
              "    }\n",
              "\n",
              "    .colab-df-convert:hover {\n",
              "      background-color: #E2EBFA;\n",
              "      box-shadow: 0px 1px 2px rgba(60, 64, 67, 0.3), 0px 1px 3px 1px rgba(60, 64, 67, 0.15);\n",
              "      fill: #174EA6;\n",
              "    }\n",
              "\n",
              "    [theme=dark] .colab-df-convert {\n",
              "      background-color: #3B4455;\n",
              "      fill: #D2E3FC;\n",
              "    }\n",
              "\n",
              "    [theme=dark] .colab-df-convert:hover {\n",
              "      background-color: #434B5C;\n",
              "      box-shadow: 0px 1px 3px 1px rgba(0, 0, 0, 0.15);\n",
              "      filter: drop-shadow(0px 1px 2px rgba(0, 0, 0, 0.3));\n",
              "      fill: #FFFFFF;\n",
              "    }\n",
              "  </style>\n",
              "\n",
              "      <script>\n",
              "        const buttonEl =\n",
              "          document.querySelector('#df-79f5041c-a450-4352-8908-366411d84995 button.colab-df-convert');\n",
              "        buttonEl.style.display =\n",
              "          google.colab.kernel.accessAllowed ? 'block' : 'none';\n",
              "\n",
              "        async function convertToInteractive(key) {\n",
              "          const element = document.querySelector('#df-79f5041c-a450-4352-8908-366411d84995');\n",
              "          const dataTable =\n",
              "            await google.colab.kernel.invokeFunction('convertToInteractive',\n",
              "                                                     [key], {});\n",
              "          if (!dataTable) return;\n",
              "\n",
              "          const docLinkHtml = 'Like what you see? Visit the ' +\n",
              "            '<a target=\"_blank\" href=https://colab.research.google.com/notebooks/data_table.ipynb>data table notebook</a>'\n",
              "            + ' to learn more about interactive tables.';\n",
              "          element.innerHTML = '';\n",
              "          dataTable['output_type'] = 'display_data';\n",
              "          await google.colab.output.renderOutput(dataTable, element);\n",
              "          const docLink = document.createElement('div');\n",
              "          docLink.innerHTML = docLinkHtml;\n",
              "          element.appendChild(docLink);\n",
              "        }\n",
              "      </script>\n",
              "    </div>\n",
              "  </div>\n",
              "  "
            ]
          },
          "metadata": {},
          "execution_count": 3
        }
      ]
    },
    {
      "cell_type": "code",
      "source": [
        "data.info()"
      ],
      "metadata": {
        "id": "3_56_ZZ_d74f",
        "outputId": "4911c515-b28a-47cc-a807-6b03e8243345",
        "colab": {
          "base_uri": "https://localhost:8080/"
        }
      },
      "execution_count": null,
      "outputs": [
        {
          "output_type": "stream",
          "name": "stdout",
          "text": [
            "<class 'pandas.core.frame.DataFrame'>\n",
            "RangeIndex: 1007 entries, 0 to 1006\n",
            "Data columns (total 8 columns):\n",
            " #   Column                   Non-Null Count  Dtype \n",
            "---  ------                   --------------  ----- \n",
            " 0   Car Make                 1007 non-null   object\n",
            " 1   Car Model                1007 non-null   object\n",
            " 2   Year                     1007 non-null   int64 \n",
            " 3   Engine Size (L)          997 non-null    object\n",
            " 4   Horsepower               1007 non-null   object\n",
            " 5   Torque (lb-ft)           1004 non-null   object\n",
            " 6   0-60 MPH Time (seconds)  1007 non-null   object\n",
            " 7   Price (in USD)           1007 non-null   object\n",
            "dtypes: int64(1), object(7)\n",
            "memory usage: 63.1+ KB\n"
          ]
        }
      ]
    },
    {
      "cell_type": "code",
      "source": [
        "data['Engine Size (L)'].unique()"
      ],
      "metadata": {
        "colab": {
          "base_uri": "https://localhost:8080/"
        },
        "id": "4xxUTpFKffXo",
        "outputId": "61f94d07-3281-40de-808e-b374e46cf8b9"
      },
      "execution_count": null,
      "outputs": [
        {
          "output_type": "execute_result",
          "data": {
            "text/plain": [
              "array(['3', '5.2', '3.9', '4', '4.4', '6.2', '3.8', '8', '5', '3.5',\n",
              "       '4.7', '2', '2.9', '6', 'Electric', '6.5', '3.7', 'Electric Motor',\n",
              "       '2.5', '1.5 + Electric', '6.8', '8.4', nan, '6.6', '7', '1.7',\n",
              "       '3.3', '-', '6.7', '1.8', 'Electric (tri-motor)', '5.5',\n",
              "       'Electric (93 kWh)', 'Electric (100 kWh)', 'Hybrid (4.0)', '4.6',\n",
              "       '3.6', '1.5', 'Hybrid', '5.7', '2.0 (Electric)', '4.0 (Hybrid)',\n",
              "       '0', '6.4', '6.3', '2.3'], dtype=object)"
            ]
          },
          "metadata": {},
          "execution_count": 8
        }
      ]
    },
    {
      "cell_type": "code",
      "source": [
        "car_engine = '4'\n",
        "data[data['Engine Size (L)']==car_engine]"
      ],
      "metadata": {
        "id": "a5g6yc_UfxX5",
        "outputId": "1d27ba1c-61ff-45dd-d980-ccf294bd0021",
        "colab": {
          "base_uri": "https://localhost:8080/",
          "height": 423
        }
      },
      "execution_count": null,
      "outputs": [
        {
          "output_type": "execute_result",
          "data": {
            "text/plain": [
              "           Car Make      Car Model  Year Engine Size (L) Horsepower  \\\n",
              "4           McLaren           720S  2021               4        710   \n",
              "6     Mercedes-Benz         AMG GT  2021               4        523   \n",
              "27          Porsche     Cayman GT4  2022               4        414   \n",
              "29          Ferrari  SF90 Stradale  2021               4        986   \n",
              "30             Audi            RS7  2022               4        591   \n",
              "...             ...            ...   ...             ...        ...   \n",
              "982    Aston Martin        Vantage  2021               4        503   \n",
              "992         Ferrari  SF90 Stradale  2021               4        986   \n",
              "994         McLaren             GT  2022               4        612   \n",
              "1000   Aston Martin        Vantage  2021               4        503   \n",
              "1004        McLaren          Senna  2021               4        789   \n",
              "\n",
              "     Torque (lb-ft) 0-60 MPH Time (seconds) Price (in USD)  \n",
              "4               568                     2.7        298,000  \n",
              "6               494                     3.8        118,500  \n",
              "27              309                     3.8        100,200  \n",
              "29              590                     2.5        625,000  \n",
              "30              590                     3.5        117,000  \n",
              "...             ...                     ...            ...  \n",
              "982             505                     3.6        147,000  \n",
              "992             590                     2.5        625,000  \n",
              "994             465                     3.1        210,000  \n",
              "1000            505                     3.6        146,000  \n",
              "1004            590                     2.7      1,000,000  \n",
              "\n",
              "[219 rows x 8 columns]"
            ],
            "text/html": [
              "\n",
              "  <div id=\"df-2a56aa4e-0e01-4642-adb1-cbfb1fc0eb16\">\n",
              "    <div class=\"colab-df-container\">\n",
              "      <div>\n",
              "<style scoped>\n",
              "    .dataframe tbody tr th:only-of-type {\n",
              "        vertical-align: middle;\n",
              "    }\n",
              "\n",
              "    .dataframe tbody tr th {\n",
              "        vertical-align: top;\n",
              "    }\n",
              "\n",
              "    .dataframe thead th {\n",
              "        text-align: right;\n",
              "    }\n",
              "</style>\n",
              "<table border=\"1\" class=\"dataframe\">\n",
              "  <thead>\n",
              "    <tr style=\"text-align: right;\">\n",
              "      <th></th>\n",
              "      <th>Car Make</th>\n",
              "      <th>Car Model</th>\n",
              "      <th>Year</th>\n",
              "      <th>Engine Size (L)</th>\n",
              "      <th>Horsepower</th>\n",
              "      <th>Torque (lb-ft)</th>\n",
              "      <th>0-60 MPH Time (seconds)</th>\n",
              "      <th>Price (in USD)</th>\n",
              "    </tr>\n",
              "  </thead>\n",
              "  <tbody>\n",
              "    <tr>\n",
              "      <th>4</th>\n",
              "      <td>McLaren</td>\n",
              "      <td>720S</td>\n",
              "      <td>2021</td>\n",
              "      <td>4</td>\n",
              "      <td>710</td>\n",
              "      <td>568</td>\n",
              "      <td>2.7</td>\n",
              "      <td>298,000</td>\n",
              "    </tr>\n",
              "    <tr>\n",
              "      <th>6</th>\n",
              "      <td>Mercedes-Benz</td>\n",
              "      <td>AMG GT</td>\n",
              "      <td>2021</td>\n",
              "      <td>4</td>\n",
              "      <td>523</td>\n",
              "      <td>494</td>\n",
              "      <td>3.8</td>\n",
              "      <td>118,500</td>\n",
              "    </tr>\n",
              "    <tr>\n",
              "      <th>27</th>\n",
              "      <td>Porsche</td>\n",
              "      <td>Cayman GT4</td>\n",
              "      <td>2022</td>\n",
              "      <td>4</td>\n",
              "      <td>414</td>\n",
              "      <td>309</td>\n",
              "      <td>3.8</td>\n",
              "      <td>100,200</td>\n",
              "    </tr>\n",
              "    <tr>\n",
              "      <th>29</th>\n",
              "      <td>Ferrari</td>\n",
              "      <td>SF90 Stradale</td>\n",
              "      <td>2021</td>\n",
              "      <td>4</td>\n",
              "      <td>986</td>\n",
              "      <td>590</td>\n",
              "      <td>2.5</td>\n",
              "      <td>625,000</td>\n",
              "    </tr>\n",
              "    <tr>\n",
              "      <th>30</th>\n",
              "      <td>Audi</td>\n",
              "      <td>RS7</td>\n",
              "      <td>2022</td>\n",
              "      <td>4</td>\n",
              "      <td>591</td>\n",
              "      <td>590</td>\n",
              "      <td>3.5</td>\n",
              "      <td>117,000</td>\n",
              "    </tr>\n",
              "    <tr>\n",
              "      <th>...</th>\n",
              "      <td>...</td>\n",
              "      <td>...</td>\n",
              "      <td>...</td>\n",
              "      <td>...</td>\n",
              "      <td>...</td>\n",
              "      <td>...</td>\n",
              "      <td>...</td>\n",
              "      <td>...</td>\n",
              "    </tr>\n",
              "    <tr>\n",
              "      <th>982</th>\n",
              "      <td>Aston Martin</td>\n",
              "      <td>Vantage</td>\n",
              "      <td>2021</td>\n",
              "      <td>4</td>\n",
              "      <td>503</td>\n",
              "      <td>505</td>\n",
              "      <td>3.6</td>\n",
              "      <td>147,000</td>\n",
              "    </tr>\n",
              "    <tr>\n",
              "      <th>992</th>\n",
              "      <td>Ferrari</td>\n",
              "      <td>SF90 Stradale</td>\n",
              "      <td>2021</td>\n",
              "      <td>4</td>\n",
              "      <td>986</td>\n",
              "      <td>590</td>\n",
              "      <td>2.5</td>\n",
              "      <td>625,000</td>\n",
              "    </tr>\n",
              "    <tr>\n",
              "      <th>994</th>\n",
              "      <td>McLaren</td>\n",
              "      <td>GT</td>\n",
              "      <td>2022</td>\n",
              "      <td>4</td>\n",
              "      <td>612</td>\n",
              "      <td>465</td>\n",
              "      <td>3.1</td>\n",
              "      <td>210,000</td>\n",
              "    </tr>\n",
              "    <tr>\n",
              "      <th>1000</th>\n",
              "      <td>Aston Martin</td>\n",
              "      <td>Vantage</td>\n",
              "      <td>2021</td>\n",
              "      <td>4</td>\n",
              "      <td>503</td>\n",
              "      <td>505</td>\n",
              "      <td>3.6</td>\n",
              "      <td>146,000</td>\n",
              "    </tr>\n",
              "    <tr>\n",
              "      <th>1004</th>\n",
              "      <td>McLaren</td>\n",
              "      <td>Senna</td>\n",
              "      <td>2021</td>\n",
              "      <td>4</td>\n",
              "      <td>789</td>\n",
              "      <td>590</td>\n",
              "      <td>2.7</td>\n",
              "      <td>1,000,000</td>\n",
              "    </tr>\n",
              "  </tbody>\n",
              "</table>\n",
              "<p>219 rows × 8 columns</p>\n",
              "</div>\n",
              "      <button class=\"colab-df-convert\" onclick=\"convertToInteractive('df-2a56aa4e-0e01-4642-adb1-cbfb1fc0eb16')\"\n",
              "              title=\"Convert this dataframe to an interactive table.\"\n",
              "              style=\"display:none;\">\n",
              "        \n",
              "  <svg xmlns=\"http://www.w3.org/2000/svg\" height=\"24px\"viewBox=\"0 0 24 24\"\n",
              "       width=\"24px\">\n",
              "    <path d=\"M0 0h24v24H0V0z\" fill=\"none\"/>\n",
              "    <path d=\"M18.56 5.44l.94 2.06.94-2.06 2.06-.94-2.06-.94-.94-2.06-.94 2.06-2.06.94zm-11 1L8.5 8.5l.94-2.06 2.06-.94-2.06-.94L8.5 2.5l-.94 2.06-2.06.94zm10 10l.94 2.06.94-2.06 2.06-.94-2.06-.94-.94-2.06-.94 2.06-2.06.94z\"/><path d=\"M17.41 7.96l-1.37-1.37c-.4-.4-.92-.59-1.43-.59-.52 0-1.04.2-1.43.59L10.3 9.45l-7.72 7.72c-.78.78-.78 2.05 0 2.83L4 21.41c.39.39.9.59 1.41.59.51 0 1.02-.2 1.41-.59l7.78-7.78 2.81-2.81c.8-.78.8-2.07 0-2.86zM5.41 20L4 18.59l7.72-7.72 1.47 1.35L5.41 20z\"/>\n",
              "  </svg>\n",
              "      </button>\n",
              "      \n",
              "  <style>\n",
              "    .colab-df-container {\n",
              "      display:flex;\n",
              "      flex-wrap:wrap;\n",
              "      gap: 12px;\n",
              "    }\n",
              "\n",
              "    .colab-df-convert {\n",
              "      background-color: #E8F0FE;\n",
              "      border: none;\n",
              "      border-radius: 50%;\n",
              "      cursor: pointer;\n",
              "      display: none;\n",
              "      fill: #1967D2;\n",
              "      height: 32px;\n",
              "      padding: 0 0 0 0;\n",
              "      width: 32px;\n",
              "    }\n",
              "\n",
              "    .colab-df-convert:hover {\n",
              "      background-color: #E2EBFA;\n",
              "      box-shadow: 0px 1px 2px rgba(60, 64, 67, 0.3), 0px 1px 3px 1px rgba(60, 64, 67, 0.15);\n",
              "      fill: #174EA6;\n",
              "    }\n",
              "\n",
              "    [theme=dark] .colab-df-convert {\n",
              "      background-color: #3B4455;\n",
              "      fill: #D2E3FC;\n",
              "    }\n",
              "\n",
              "    [theme=dark] .colab-df-convert:hover {\n",
              "      background-color: #434B5C;\n",
              "      box-shadow: 0px 1px 3px 1px rgba(0, 0, 0, 0.15);\n",
              "      filter: drop-shadow(0px 1px 2px rgba(0, 0, 0, 0.3));\n",
              "      fill: #FFFFFF;\n",
              "    }\n",
              "  </style>\n",
              "\n",
              "      <script>\n",
              "        const buttonEl =\n",
              "          document.querySelector('#df-2a56aa4e-0e01-4642-adb1-cbfb1fc0eb16 button.colab-df-convert');\n",
              "        buttonEl.style.display =\n",
              "          google.colab.kernel.accessAllowed ? 'block' : 'none';\n",
              "\n",
              "        async function convertToInteractive(key) {\n",
              "          const element = document.querySelector('#df-2a56aa4e-0e01-4642-adb1-cbfb1fc0eb16');\n",
              "          const dataTable =\n",
              "            await google.colab.kernel.invokeFunction('convertToInteractive',\n",
              "                                                     [key], {});\n",
              "          if (!dataTable) return;\n",
              "\n",
              "          const docLinkHtml = 'Like what you see? Visit the ' +\n",
              "            '<a target=\"_blank\" href=https://colab.research.google.com/notebooks/data_table.ipynb>data table notebook</a>'\n",
              "            + ' to learn more about interactive tables.';\n",
              "          element.innerHTML = '';\n",
              "          dataTable['output_type'] = 'display_data';\n",
              "          await google.colab.output.renderOutput(dataTable, element);\n",
              "          const docLink = document.createElement('div');\n",
              "          docLink.innerHTML = docLinkHtml;\n",
              "          element.appendChild(docLink);\n",
              "        }\n",
              "      </script>\n",
              "    </div>\n",
              "  </div>\n",
              "  "
            ]
          },
          "metadata": {},
          "execution_count": 9
        }
      ]
    },
    {
      "cell_type": "code",
      "source": [
        "unique_Car = data[data.Year>2015]['Car Make'].unique()\n",
        "unique_Car.sort\n",
        "unique_Car\n",
        "     "
      ],
      "metadata": {
        "id": "pTp5tJkvgm4D",
        "outputId": "512d75bb-197e-45ab-b823-2eaf8b4d8535",
        "colab": {
          "base_uri": "https://localhost:8080/"
        }
      },
      "execution_count": null,
      "outputs": [
        {
          "output_type": "execute_result",
          "data": {
            "text/plain": [
              "array(['Porsche', 'Lamborghini', 'Ferrari', 'Audi', 'McLaren', 'BMW',\n",
              "       'Mercedes-Benz', 'Chevrolet', 'Ford', 'Nissan', 'Aston Martin',\n",
              "       'Bugatti', 'Dodge', 'Jaguar', 'Koenigsegg', 'Lexus', 'Lotus',\n",
              "       'Maserati', 'Alfa Romeo', 'Ariel', 'Bentley', 'Mercedes-AMG',\n",
              "       'Pagani', 'Polestar', 'Rimac', 'Acura', 'Mazda', 'Rolls-Royce',\n",
              "       'Tesla', 'Toyota', 'W Motors', 'TVR', 'Subaru', 'Pininfarina',\n",
              "       'Kia', 'Alpine', 'Ultima'], dtype=object)"
            ]
          },
          "metadata": {},
          "execution_count": 10
        }
      ]
    },
    {
      "cell_type": "code",
      "source": [
        "car_year = []\n",
        "for i in unique_Car :\n",
        "  car_year.append(data[data.Year>2015][data['Car Make']==i][data['Engine Size (L)']==car_engine].Year.sum())"
      ],
      "metadata": {
        "id": "1o3BW4l6hif_",
        "outputId": "eec6d28f-0e63-4a50-c5bb-180942676dbe",
        "colab": {
          "base_uri": "https://localhost:8080/"
        }
      },
      "execution_count": null,
      "outputs": [
        {
          "output_type": "stream",
          "name": "stderr",
          "text": [
            "<ipython-input-12-ac43ef4a7795>:3: UserWarning: Boolean Series key will be reindexed to match DataFrame index.\n",
            "  car_year.append(data[data.Year>2015][data['Car Make']==i][data['Engine Size (L)']==car_engine].Year.sum())\n"
          ]
        }
      ]
    },
    {
      "cell_type": "code",
      "source": [
        "from pandas.core.arrays.datetimelike import unique1d\n",
        "print(set(zip(unique_Car, car_year)))"
      ],
      "metadata": {
        "id": "8o5pst-nkv3y",
        "outputId": "e507a8de-4f37-45dc-c873-eee60d3df2b0",
        "colab": {
          "base_uri": "https://localhost:8080/"
        }
      },
      "execution_count": null,
      "outputs": [
        {
          "output_type": "stream",
          "name": "stdout",
          "text": [
            "{('Polestar', 0), ('TVR', 0), ('Maserati', 0), ('Koenigsegg', 0), ('Ariel', 0), ('Alpine', 0), ('W Motors', 0), ('Dodge', 0), ('Mercedes-AMG', 20214), ('Subaru', 0), ('Mazda', 0), ('Tesla', 0), ('Acura', 0), ('Toyota', 0), ('McLaren', 60632), ('Lotus', 0), ('Rolls-Royce', 0), ('Ferrari', 44469), ('Mercedes-Benz', 62654), ('Bentley', 18194), ('Kia', 0), ('Pagani', 0), ('Lexus', 0), ('Rimac', 0), ('Audi', 68733), ('Jaguar', 0), ('Bugatti', 0), ('Alfa Romeo', 0), ('Aston Martin', 56596), ('Porsche', 70752), ('BMW', 0), ('Pininfarina', 0), ('Ultima', 0), ('Nissan', 0), ('Chevrolet', 0), ('Lamborghini', 40421), ('Ford', 0)}\n"
          ]
        }
      ]
    },
    {
      "cell_type": "code",
      "source": [
        "plt.barh(unique_Car, car_year)\n",
        "plt.show()"
      ],
      "metadata": {
        "id": "lzk2XgSolC0K",
        "outputId": "1abc272c-9cc7-46e4-988f-6931c59520f5",
        "colab": {
          "base_uri": "https://localhost:8080/",
          "height": 265
        }
      },
      "execution_count": null,
      "outputs": [
        {
          "output_type": "display_data",
          "data": {
            "text/plain": [
              "<Figure size 432x288 with 1 Axes>"
            ],
            "image/png": "[encoded data removed]"
          },
          "metadata": {
            "needs_background": "light"
          }
        }
      ]
    }
  ],
  "metadata": {
    "colab": {
      "provenance": []
    },
    "kernelspec": {
      "display_name": "Python 3",
      "name": "python3"
    }
  },
  "nbformat": 4,
  "nbformat_minor": 0
}